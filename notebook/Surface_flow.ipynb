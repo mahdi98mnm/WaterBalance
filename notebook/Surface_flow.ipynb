{
 "cells": [
  {
   "attachments": {},
   "cell_type": "markdown",
   "metadata": {},
   "source": [
    "# Import Liberaries"
   ]
  },
  {
   "cell_type": "code",
   "execution_count": 2,
   "metadata": {},
   "outputs": [
    {
     "name": "stderr",
     "output_type": "stream",
     "text": [
      "/home/mahdi/WaterBalance/myenv/lib/python3.8/site-packages/geopandas/_compat.py:123: UserWarning: The Shapely GEOS version (3.11.1-CAPI-1.17.1) is incompatible with the GEOS version PyGEOS was compiled with (3.10.4-CAPI-1.16.2). Conversions between both will be slow.\n",
      "  warnings.warn(\n",
      "/tmp/ipykernel_428/2886985012.py:7: UserWarning: Shapely 2.0 is installed, but because PyGEOS is also installed, GeoPandas will still use PyGEOS by default for now. To force to use and test Shapely 2.0, you have to set the environment variable USE_PYGEOS=0. You can do this before starting the Python process, or in your code before importing geopandas:\n",
      "\n",
      "import os\n",
      "os.environ['USE_PYGEOS'] = '0'\n",
      "import geopandas\n",
      "\n",
      "In a future release, GeoPandas will switch to using Shapely by default. If you are using PyGEOS directly (calling PyGEOS functions on geometries from GeoPandas), this will then stop working and you are encouraged to migrate from PyGEOS to Shapely 2.0 (https://shapely.readthedocs.io/en/latest/migration_pygeos.html).\n",
      "  import geopandas as gpd\n"
     ]
    }
   ],
   "source": [
    "import os\n",
    "import sys\n",
    "import pandas as pd\n",
    "import numpy as np\n",
    "import netCDF4 as nc\n",
    "import xarray as xr\n",
    "import geopandas as gpd\n",
    "\n",
    "sys.path.append('/home/mahdi/WaterBalance/')"
   ]
  },
  {
   "attachments": {},
   "cell_type": "markdown",
   "metadata": {},
   "source": [
    "# Varables"
   ]
  },
  {
   "cell_type": "code",
   "execution_count": 3,
   "metadata": {},
   "outputs": [],
   "source": [
    "PATH_DATA = \"/mnt/e/Term2/payan_name/import/DataQDWB/\"\n",
    "\n",
    "# mashhad\n",
    "# LAT_MIN = 35.80\n",
    "# LAT_MAX = 37.11\n",
    "# LON_MIN = 58.31\n",
    "# LON_MAX = 60.14\n",
    "\n",
    "# USA\n",
    "LAT_MIN = 43.30\n",
    "LAT_MAX = 44.60\n",
    "LON_MIN = -109.40\n",
    "LON_MAX = -107.40\n"
   ]
  },
  {
   "attachments": {},
   "cell_type": "markdown",
   "metadata": {},
   "source": [
    "# Functions"
   ]
  },
  {
   "cell_type": "code",
   "execution_count": 4,
   "metadata": {},
   "outputs": [],
   "source": [
    "def mask_nc_file(\n",
    "    nc,\n",
    "    variable,\n",
    "    lat_min,\n",
    "    lat_max,\n",
    "    lon_min,\n",
    "    lon_max\n",
    "):\n",
    "    with xr.open_dataset(nc) as xr_nc:\n",
    "        result = xr_nc.sel(\n",
    "            lat = slice(lat_max, lat_min),\n",
    "            lon = slice(lon_min, lon_max),\n",
    "        )\n",
    "    return result"
   ]
  },
  {
   "attachments": {},
   "cell_type": "markdown",
   "metadata": {},
   "source": [
    "# Load Data"
   ]
  },
  {
   "cell_type": "code",
   "execution_count": 10,
   "metadata": {},
   "outputs": [
    {
     "name": "stdout",
     "output_type": "stream",
     "text": [
      "<class 'netCDF4._netCDF4.Dataset'>\n",
      "root group (NETCDF4_CLASSIC data model, file format HDF5):\n",
      "    Conventions: CF-1.0\n",
      "    dimensions(sizes): Longitude(1440), Latitude(720)\n",
      "    variables(dimensions): float32 Latitude(Latitude), float32 Longitude(Longitude), int16 ts(Longitude, Latitude), int16 soil_moisture_c1(Longitude, Latitude), int16 opt_depth_c1(Longitude, Latitude), int16 soil_moisture_c2(Longitude, Latitude), int16 opt_depth_c2(Longitude, Latitude), int16 soil_moisture_x(Longitude, Latitude), int16 opt_depth_x(Longitude, Latitude), int16 mask(Longitude, Latitude), int16 soil_moisture_c1_error(Longitude, Latitude), int16 soil_moisture_c2_error(Longitude, Latitude), int16 soil_moisture_x_error(Longitude, Latitude), int16 frequency_map(Longitude, Latitude), float64 scantime(Longitude, Latitude)\n",
      "    groups: \n"
     ]
    }
   ],
   "source": [
    "# mm d-1 - precipitation\n",
    "P = mask_nc_file(\n",
    "    nc = PATH_DATA + \"P_2022031.nc\",\n",
    "    variable = \"precipitation\",\n",
    "    lat_min = LAT_MIN,\n",
    "    lat_max = LAT_MAX,\n",
    "    lon_min = LON_MIN,\n",
    "    lon_max = LON_MAX\n",
    ")\n",
    "\n",
    "\n",
    "# open the netCDF4 file\n",
    "soil_moisture = nc.Dataset(PATH_DATA + \"LPRM-AMSR2_L3_A_SOILM3_V001_20220131013015.nc4\")\n",
    "\n",
    "# print the variables in the dataset\n",
    "print(soil_moisture)\n",
    "\n",
    "\n",
    "mashhad = gpd.read_file('/mnt/e/Term2/WERI/test/Export_Output.shp')\n",
    "\n",
    "usa = gpd.read_file('/mnt/e/Term2/payan_name/import/sample/usa.shp')\n"
   ]
  },
  {
   "cell_type": "code",
   "execution_count": null,
   "metadata": {},
   "outputs": [],
   "source": [
    "from qdwb.primary_surface_flow.primary_surface_flow import *\n",
    "from qdwb.primary_surface_flow.asset import *\n",
    "\n",
    "\n",
    "\n",
    "\n",
    "\n",
    "R = np.array([PrimarySurfaceFlow.scs(\n",
    "    precipitation = float(i),\n",
    "    curve_number = 30,\n",
    "    rsa = True,\n",
    "    antecedent_precipitation = 100,\n",
    "    is_growing_season = True\n",
    ")[0]\n",
    "for i in list(P.precipitation.values.flatten())])\n",
    "\n",
    "\n",
    "\n",
    "underground_runoff = np.array([PrimarySurfaceFlow.scs(\n",
    "    precipitation = float(i),\n",
    "    curve_number = 30,\n",
    "    rsa = True,\n",
    "    antecedent_precipitation = 100,\n",
    "    is_growing_season = True\n",
    ")[1]\n",
    "for i in list(P.precipitation.values.flatten())])\n",
    "\n",
    "\n",
    "R_array = R.reshape(1,13,20)\n",
    "underground_runoff_array = underground_runoff.reshape(1,13,20)\n",
    "\n",
    "# array_dr = np.array([[[1,2,5], [3,4,6]]])\n",
    "# array_dr.shape\n",
    "ds_array = P.assign(Runoff=(['time', 'lat', 'lon'], R_array))\n",
    "ds_array_1 = ds_array.assign(underground_runoff=(['time', 'lat', 'lon'], underground_runoff_array))\n",
    "ds_array_1"
   ]
  },
  {
   "cell_type": "code",
   "execution_count": null,
   "metadata": {},
   "outputs": [],
   "source": [
    "# import ee\n",
    "# ee.Authenticate()\n",
    "# ee.Initialize()"
   ]
  },
  {
   "cell_type": "code",
   "execution_count": null,
   "metadata": {},
   "outputs": [],
   "source": [
    "# import geemap\n",
    "\n",
    "# Map = geemap.Map()\n",
    "# Map.add_basemap('HYBRID')\n",
    "\n",
    "# shape = ee.FeatureCollection('projects/ee-mohammadnejadmehdi77/assets/sample_usa')\n",
    "# # shape = ee.Geometry.Rectangle([LON_MAX,LAT_MIN,LON_MIN,LAT_MAX])\n",
    "# # LAT_MIN = 43.30\n",
    "# # LAT_MAX = 44.60\n",
    "# # LON_MIN = -109.40\n",
    "# # LON_MAX = -107.40\n",
    "\n",
    "# # Import the GCN250 Images and rename bands\n",
    "# # GCN250_Average =  ee.Image(\"users/jaafarhadi/GCN250/GCN250Average\").select('b1').rename('average')\n",
    "# GCN250_Dry =  ee.Image(\"users/jaafarhadi/GCN250/GCN250Dry\").select('b1').rename('dry')\n",
    "# # GCN250_Wet = ee.Image(\"users/jaafarhadi/GCN250/GCN250Wet\").select('b1').rename('wet')\n",
    "\n",
    "# # visualize the Dry GCN dataset\n",
    "# vis = {\n",
    "#     min:40, \n",
    "#     max:75, \n",
    "#     palette: ['Red','SandyBrown','Yellow','LimeGreen', 'Blue','DarkBlue']\n",
    "# }\n",
    "# # Crop Mask selection\n",
    "\n",
    "# CN_Wyoming = GCN250_Dry.clip(shape)\n",
    " \n",
    "# Map.centerObject(shape, 9)\n",
    "# Map.addLayer(CN_Wyoming, {'min':40, 'max':75, 'palette': ['Red','SandyBrown','Yellow','LimeGreen', 'Blue','DarkBlue']}, 'CN_Wyoming')\n",
    "# Map"
   ]
  },
  {
   "cell_type": "code",
   "execution_count": 1,
   "metadata": {},
   "outputs": [
    {
     "name": "stdout",
     "output_type": "stream",
     "text": [
      "Runoff depth: 12.34 mm\n"
     ]
    }
   ],
   "source": [
    "def scs_runoff(rainfall_depth, soil_group, land_use, slope):\n",
    "    # Define curve number lookup table for different land uses\n",
    "    cn_table = {\n",
    "        'cropland': {'A': 65, 'B': 72, 'C': 79, 'D': 85},\n",
    "        'pasture': {'A': 68, 'B': 76, 'C': 83, 'D': 89},\n",
    "        'woodland': {'A': 30, 'B': 37, 'C': 47, 'D': 55},\n",
    "        'urban': {'A': 85, 'B': 89, 'C': 92, 'D': 94},\n",
    "    }\n",
    "    \n",
    "    # Define initial abstraction lookup table for different land uses\n",
    "    ia_table = {\n",
    "        'cropland': 0.2,\n",
    "        'pasture': 0.2,\n",
    "        'woodland': 0.1,\n",
    "        'urban': 0.3,\n",
    "    }\n",
    "    \n",
    "    # Calculate curve number based on hydrological soil group, land use, and slope\n",
    "    cn = cn_table[land_use][soil_group] - (slope / 100.0) * 0.8 * (cn_table[land_use][soil_group] - 10)\n",
    "    \n",
    "    # Calculate initial abstraction based on land use and antecedent moisture conditions\n",
    "    ia = ia_table[land_use] * cn\n",
    "    \n",
    "    # Calculate runoff depth based on rainfall depth, curve number, and initial abstraction\n",
    "    runoff_depth = (rainfall_depth - ia) ** 2 / (rainfall_depth - ia + cn)\n",
    "    \n",
    "    return runoff_depth\n",
    "\n",
    "\n",
    "rainfall_depth = 50  # mm\n",
    "soil_group = 'B'\n",
    "land_use = 'cropland'\n",
    "slope = 5  # %\n",
    "\n",
    "runoff_depth = scs_runoff(rainfall_depth, soil_group, land_use, slope)\n",
    "\n",
    "print(f\"Runoff depth: {runoff_depth:.2f} mm\")\n"
   ]
  }
 ],
 "metadata": {
  "kernelspec": {
   "display_name": "myenv",
   "language": "python",
   "name": "python3"
  },
  "language_info": {
   "codemirror_mode": {
    "name": "ipython",
    "version": 3
   },
   "file_extension": ".py",
   "mimetype": "text/x-python",
   "name": "python",
   "nbconvert_exporter": "python",
   "pygments_lexer": "ipython3",
   "version": "3.8.10"
  },
  "orig_nbformat": 4,
  "vscode": {
   "interpreter": {
    "hash": "88154a0a9dd28ca5bd2b4bb8e450280586e94dc5a8ad3b94b39119e44caed767"
   }
  }
 },
 "nbformat": 4,
 "nbformat_minor": 2
}
